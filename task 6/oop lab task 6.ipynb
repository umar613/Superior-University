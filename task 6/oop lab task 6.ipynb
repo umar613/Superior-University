{
 "cells": [
  {
   "cell_type": "code",
   "execution_count": 2,
   "id": "923a9914",
   "metadata": {},
   "outputs": [
    {
     "name": "stdout",
     "output_type": "stream",
     "text": [
      "Registering an (1) Undergraduate or (2) Graduate course? 1\n",
      "Enter Course Code: 1122\n",
      "Enter Course Name: python\n",
      "Enter Year Level: 2\n",
      "\n",
      "Course Registered Successfully!\n",
      "Course code: 1122 Course name: python\n",
      "Year Level: 2\n"
     ]
    }
   ],
   "source": [
    "class Course:\n",
    "    def __init__(self,course_code,course_name):\n",
    "        self.course_code = course_code\n",
    "        self.course_name = course_name \n",
    "    def display_info(self):\n",
    "        print(f\"Course code: {self.course_code} Course name: {self.course_name}\")\n",
    "        \n",
    "class UndergraduateCourse(Course):\n",
    "    def __init__(self, course_code, course_name, year_level):\n",
    "        super().__init__(course_code, course_name)\n",
    "        self.year_level = year_level\n",
    "    def additional_info(self):\n",
    "        print(f\"Year Level: {self.year_level}\")\n",
    "\n",
    "class GraduateCourse(Course):\n",
    "    def __init__(self, course_code, course_name, research_area):\n",
    "        super().__init__(course_code, course_name)\n",
    "        self.research_area = research_area\n",
    "    def additional_info(self):\n",
    "        print(f\"Research Area: {self.research_area}\")\n",
    "\n",
    "def register_course():\n",
    "    course_type = input(\"Registering an (1) Undergraduate or (2) Graduate course? \")\n",
    "    course_code = input(\"Enter Course Code: \")\n",
    "    course_name = input(\"Enter Course Name: \")\n",
    "\n",
    "    if course_type == \"1\":\n",
    "        year_level = input(\"Enter Year Level: \")\n",
    "        course = UndergraduateCourse(course_code, course_name, year_level)\n",
    "    elif course_type == \"2\":\n",
    "        research_area = input(\"Enter Research Area: \")\n",
    "        course = GraduateCourse(course_code, course_name, research_area)\n",
    "    else:\n",
    "        print(\"Invalid course type selected.\")\n",
    "        return\n",
    "\n",
    "    print(\"\\nCourse Registered Successfully!\")\n",
    "    course.display_info()\n",
    "    course.additional_info()\n",
    "    \n",
    "if __name__ == \"__main__\":\n",
    "    register_course()"
   ]
  },
  {
   "cell_type": "code",
   "execution_count": null,
   "id": "745d2359",
   "metadata": {},
   "outputs": [],
   "source": []
  },
  {
   "cell_type": "code",
   "execution_count": null,
   "id": "cdfd85ee",
   "metadata": {},
   "outputs": [],
   "source": []
  }
 ],
 "metadata": {
  "kernelspec": {
   "display_name": "Python 3 (ipykernel)",
   "language": "python",
   "name": "python3"
  },
  "language_info": {
   "codemirror_mode": {
    "name": "ipython",
    "version": 3
   },
   "file_extension": ".py",
   "mimetype": "text/x-python",
   "name": "python",
   "nbconvert_exporter": "python",
   "pygments_lexer": "ipython3",
   "version": "3.10.9"
  }
 },
 "nbformat": 4,
 "nbformat_minor": 5
}
