{
 "cells": [
  {
   "cell_type": "code",
   "execution_count": 6,
   "id": "cf5347ed",
   "metadata": {},
   "outputs": [
    {
     "name": "stdout",
     "output_type": "stream",
     "text": [
      "Enter the width of the reactangle: 12\n",
      "Enter the height of the reactangle: 6\n",
      "Reactangle: 12.0 x 6.0\n",
      "Area: 72.0\n",
      "Perimeter: 36.0\n"
     ]
    }
   ],
   "source": [
    "class Ractangle:\n",
    "    def __init__(self, width, height):\n",
    "        self.width = width\n",
    "        self.height = height\n",
    "        \n",
    "    def __str__(self):\n",
    "        return f\"Reactangle: {self.width} x {self.height}\"\n",
    "    \n",
    "    def area(self):\n",
    "        return self.width * self.height\n",
    "    \n",
    "    def perimeter(self):\n",
    "        return 2 * (self.width + self.height)\n",
    "    \n",
    "width = float(input(\"Enter the width of the reactangle: \"))\n",
    "height = float(input(\"Enter the height of the reactangle: \"))\n",
    "\n",
    "rect = Ractangle(width,height)\n",
    "print(rect)\n",
    "print(f\"Area: {rect.area()}\")\n",
    "print(f\"Perimeter: {rect.perimeter()}\")"
   ]
  },
  {
   "cell_type": "code",
   "execution_count": null,
   "id": "cc42d0ae",
   "metadata": {},
   "outputs": [],
   "source": []
  }
 ],
 "metadata": {
  "kernelspec": {
   "display_name": "Python 3 (ipykernel)",
   "language": "python",
   "name": "python3"
  },
  "language_info": {
   "codemirror_mode": {
    "name": "ipython",
    "version": 3
   },
   "file_extension": ".py",
   "mimetype": "text/x-python",
   "name": "python",
   "nbconvert_exporter": "python",
   "pygments_lexer": "ipython3",
   "version": "3.10.9"
  }
 },
 "nbformat": 4,
 "nbformat_minor": 5
}
