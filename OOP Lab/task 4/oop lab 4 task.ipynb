{
 "cells": [
  {
   "cell_type": "code",
   "execution_count": 5,
   "id": "3b1b1727",
   "metadata": {},
   "outputs": [
    {
     "name": "stdout",
     "output_type": "stream",
     "text": [
      "Title:Trust and Inspire, AuthorStyphen, Publication_year1992\n"
     ]
    }
   ],
   "source": [
    "class Book:\n",
    "    def __init__(self,title,author,publication_year):\n",
    "        self.title = title\n",
    "        self.author = author\n",
    "        self.publication_year= publication_year\n",
    "        \n",
    "    def __str__(self):\n",
    "        return f\"Title:{self.title}, Author{self.author}, Publication_year{self.publication_year}\"\n",
    "    \n",
    "my_Book = Book(\"Trust and Inspire\", \"Styphen\", \"1992\")\n",
    "print(my_Book)"
   ]
  },
  {
   "cell_type": "code",
   "execution_count": null,
   "id": "15e050e1",
   "metadata": {},
   "outputs": [],
   "source": []
  },
  {
   "cell_type": "code",
   "execution_count": null,
   "id": "4c515d92",
   "metadata": {},
   "outputs": [],
   "source": []
  }
 ],
 "metadata": {
  "kernelspec": {
   "display_name": "Python 3 (ipykernel)",
   "language": "python",
   "name": "python3"
  },
  "language_info": {
   "codemirror_mode": {
    "name": "ipython",
    "version": 3
   },
   "file_extension": ".py",
   "mimetype": "text/x-python",
   "name": "python",
   "nbconvert_exporter": "python",
   "pygments_lexer": "ipython3",
   "version": "3.10.9"
  }
 },
 "nbformat": 4,
 "nbformat_minor": 5
}
