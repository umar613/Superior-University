{
 "cells": [
  {
   "cell_type": "code",
   "execution_count": 3,
   "id": "5e4b7672",
   "metadata": {},
   "outputs": [
    {
     "name": "stdout",
     "output_type": "stream",
     "text": [
      "Enter a number (or type 'exite' to quit): 7\n",
      "7 is a prime number.\n",
      "Enter a number (or type 'exite' to quit): 11\n",
      "11 is a prime number.\n",
      "Enter a number (or type 'exite' to quit): exit\n"
     ]
    }
   ],
   "source": [
    "import math\n",
    "\n",
    "\n",
    "def is_prime(number):\n",
    "    if number <= 1:\n",
    "        return false\n",
    "    for i in range(2, int(math.sqrt(number)) + 1):\n",
    "        if number % i == 0:\n",
    "            return false\n",
    "    return True\n",
    "\n",
    "while True:\n",
    "    user_input = input(\"Enter a number (or type 'exite' to quit): \")\n",
    "    if user_input.lower() == 'exit':\n",
    "        break\n",
    "    try:\n",
    "        number = int(user_input)\n",
    "        if is_prime(number):\n",
    "            print(f\"{number} is a prime number.\")\n",
    "        else:\n",
    "            print(f\"{number} is not a prime number.\")\n",
    "    except valueError:\n",
    "        print(\"please enter a valid integer.\")"
   ]
  },
  {
   "cell_type": "code",
   "execution_count": null,
   "id": "4ab7d5dd",
   "metadata": {},
   "outputs": [],
   "source": []
  }
 ],
 "metadata": {
  "kernelspec": {
   "display_name": "Python 3 (ipykernel)",
   "language": "python",
   "name": "python3"
  },
  "language_info": {
   "codemirror_mode": {
    "name": "ipython",
    "version": 3
   },
   "file_extension": ".py",
   "mimetype": "text/x-python",
   "name": "python",
   "nbconvert_exporter": "python",
   "pygments_lexer": "ipython3",
   "version": "3.10.9"
  }
 },
 "nbformat": 4,
 "nbformat_minor": 5
}
