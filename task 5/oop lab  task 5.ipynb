{
 "cells": [
  {
   "cell_type": "code",
   "execution_count": null,
   "id": "337404a5",
   "metadata": {},
   "outputs": [],
   "source": []
  },
  {
   "cell_type": "code",
   "execution_count": 14,
   "id": "9927a409",
   "metadata": {},
   "outputs": [
    {
     "name": "stdout",
     "output_type": "stream",
     "text": [
      "Book Information:\n",
      "Title: The Great Gatsby, Author: F. Scott Fitzgerald\n",
      "Pages: 1999\n",
      "\n",
      "Magazine Information:\n",
      "Title: National Geographic, Author: Various\n",
      "Issue Number: 2024\n"
     ]
    }
   ],
   "source": [
    "class Item:\n",
    "    def __init__(self, title, author):\n",
    "        self.title = title\n",
    "        self.author = author\n",
    "        \n",
    "    def display_info(self):\n",
    "        print(f\"Title: {self.title}, Author: {self.author}\")\n",
    "        \n",
    "        \n",
    "class Book(Item):\n",
    "    def __init__(self, title, author, pages):\n",
    "        super().__init__(title, author)\n",
    "        self.pages = pages\n",
    "        \n",
    "    def additional_info(self):\n",
    "        print(f\"Pages: {self.pages}\")\n",
    "        \n",
    "        \n",
    "class Magazine(Item):\n",
    "    def __init__(self, title, author,issue_number):\n",
    "        super().__init__(title, author)\n",
    "        self.issue_number = issue_number\n",
    "        \n",
    "    def additional_info(self):\n",
    "        print(f\"Issue Number: {self.issue_number}\")\n",
    "        \n",
    "if __name__ == \"__main__\":\n",
    "    book = Book(\"The Great Gatsby\", \"F. Scott Fitzgerald\", 1999)\n",
    "    magazine = Magazine(\"National Geographic\", \"Various\", 2024)\n",
    "\n",
    "    print(\"Book Information:\")\n",
    "    book.display_info()\n",
    "    book.additional_info()\n",
    "\n",
    "    print(\"\\nMagazine Information:\")\n",
    "    magazine.display_info()\n",
    "    magazine.additional_info()"
   ]
  },
  {
   "cell_type": "code",
   "execution_count": null,
   "id": "d0cffe95",
   "metadata": {},
   "outputs": [],
   "source": []
  },
  {
   "cell_type": "code",
   "execution_count": null,
   "id": "022abc4b",
   "metadata": {},
   "outputs": [],
   "source": []
  }
 ],
 "metadata": {
  "kernelspec": {
   "display_name": "Python 3 (ipykernel)",
   "language": "python",
   "name": "python3"
  },
  "language_info": {
   "codemirror_mode": {
    "name": "ipython",
    "version": 3
   },
   "file_extension": ".py",
   "mimetype": "text/x-python",
   "name": "python",
   "nbconvert_exporter": "python",
   "pygments_lexer": "ipython3",
   "version": "3.10.9"
  }
 },
 "nbformat": 4,
 "nbformat_minor": 5
}
