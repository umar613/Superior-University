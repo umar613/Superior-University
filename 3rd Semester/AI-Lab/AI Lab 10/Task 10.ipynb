{
 "cells": [
  {
   "cell_type": "markdown",
   "id": "b33c8b37",
   "metadata": {},
   "source": [
    "# Data Loading"
   ]
  },
  {
   "cell_type": "code",
   "execution_count": null,
   "id": "330aae44",
   "metadata": {},
   "outputs": [],
   "source": [
    "import pandas as pd \n",
    "import numpy as np \n",
    "from sklearn.preprocessing import LabelEncoder\n"
   ]
  },
  {
   "cell_type": "code",
   "execution_count": 3,
   "id": "cdf84386",
   "metadata": {},
   "outputs": [
    {
     "data": {
      "text/html": [
       "<div>\n",
       "<style scoped>\n",
       "    .dataframe tbody tr th:only-of-type {\n",
       "        vertical-align: middle;\n",
       "    }\n",
       "\n",
       "    .dataframe tbody tr th {\n",
       "        vertical-align: top;\n",
       "    }\n",
       "\n",
       "    .dataframe thead th {\n",
       "        text-align: right;\n",
       "    }\n",
       "</style>\n",
       "<table border=\"1\" class=\"dataframe\">\n",
       "  <thead>\n",
       "    <tr style=\"text-align: right;\">\n",
       "      <th></th>\n",
       "      <th>rank</th>\n",
       "      <th>Video</th>\n",
       "      <th>Video views</th>\n",
       "      <th>Likes</th>\n",
       "      <th>Dislikes</th>\n",
       "      <th>Category</th>\n",
       "      <th>published</th>\n",
       "    </tr>\n",
       "  </thead>\n",
       "  <tbody>\n",
       "    <tr>\n",
       "      <th>0</th>\n",
       "      <td>1</td>\n",
       "      <td>20 Tennis shots if they were not filmed, NOBOD...</td>\n",
       "      <td>3,471,237</td>\n",
       "      <td>19,023</td>\n",
       "      <td>859</td>\n",
       "      <td>NaN</td>\n",
       "      <td>2017</td>\n",
       "    </tr>\n",
       "    <tr>\n",
       "      <th>1</th>\n",
       "      <td>2</td>\n",
       "      <td>Lil Nas X - Old Town Road (Official Movie) ft....</td>\n",
       "      <td>54,071,677</td>\n",
       "      <td>3,497,955</td>\n",
       "      <td>78,799</td>\n",
       "      <td>Music</td>\n",
       "      <td>2019</td>\n",
       "    </tr>\n",
       "    <tr>\n",
       "      <th>2</th>\n",
       "      <td>3</td>\n",
       "      <td>JoJo Siwa - Karma (Official Video)</td>\n",
       "      <td>34,206,747</td>\n",
       "      <td>293,563</td>\n",
       "      <td>NaN</td>\n",
       "      <td>Music</td>\n",
       "      <td>2024</td>\n",
       "    </tr>\n",
       "    <tr>\n",
       "      <th>3</th>\n",
       "      <td>4</td>\n",
       "      <td>Wiz Khalifa - See You Again ft. Charlie Puth [...</td>\n",
       "      <td>6,643,904,918</td>\n",
       "      <td>44,861,602</td>\n",
       "      <td>NaN</td>\n",
       "      <td>Music</td>\n",
       "      <td>2015</td>\n",
       "    </tr>\n",
       "    <tr>\n",
       "      <th>4</th>\n",
       "      <td>5</td>\n",
       "      <td>伊賀の天然水強炭酸水「家族で、シュワシェア。」篇　15秒</td>\n",
       "      <td>236,085,971</td>\n",
       "      <td>38</td>\n",
       "      <td>NaN</td>\n",
       "      <td>NaN</td>\n",
       "      <td>2021</td>\n",
       "    </tr>\n",
       "    <tr>\n",
       "      <th>...</th>\n",
       "      <td>...</td>\n",
       "      <td>...</td>\n",
       "      <td>...</td>\n",
       "      <td>...</td>\n",
       "      <td>...</td>\n",
       "      <td>...</td>\n",
       "      <td>...</td>\n",
       "    </tr>\n",
       "    <tr>\n",
       "      <th>995</th>\n",
       "      <td>996</td>\n",
       "      <td>CALIFORNIA - MONDAY JUSTICE FEAT. SNOOP DOGG (...</td>\n",
       "      <td>943,248</td>\n",
       "      <td>2,949</td>\n",
       "      <td>22</td>\n",
       "      <td>Music</td>\n",
       "      <td>2017</td>\n",
       "    </tr>\n",
       "    <tr>\n",
       "      <th>996</th>\n",
       "      <td>997</td>\n",
       "      <td>John McEnroe's most famous outburst happened i...</td>\n",
       "      <td>4,853,621</td>\n",
       "      <td>7,254</td>\n",
       "      <td>426</td>\n",
       "      <td>Sports</td>\n",
       "      <td>2010</td>\n",
       "    </tr>\n",
       "    <tr>\n",
       "      <th>997</th>\n",
       "      <td>998</td>\n",
       "      <td>Adi Golan's Group - Teaser</td>\n",
       "      <td>56,578</td>\n",
       "      <td>NaN</td>\n",
       "      <td>NaN</td>\n",
       "      <td>Music</td>\n",
       "      <td>2014</td>\n",
       "    </tr>\n",
       "    <tr>\n",
       "      <th>998</th>\n",
       "      <td>999</td>\n",
       "      <td>Keg tapping goes horribly wrong.</td>\n",
       "      <td>751,804</td>\n",
       "      <td>3,427</td>\n",
       "      <td>313</td>\n",
       "      <td>Entertainment</td>\n",
       "      <td>2017</td>\n",
       "    </tr>\n",
       "    <tr>\n",
       "      <th>999</th>\n",
       "      <td>1000</td>\n",
       "      <td>LIVE Hurricane Irma - Downtown Orlando - Ameri...</td>\n",
       "      <td>554,438</td>\n",
       "      <td>184</td>\n",
       "      <td>8</td>\n",
       "      <td>News &amp; Politics</td>\n",
       "      <td>2016</td>\n",
       "    </tr>\n",
       "  </tbody>\n",
       "</table>\n",
       "<p>1000 rows × 7 columns</p>\n",
       "</div>"
      ],
      "text/plain": [
       "     rank                                              Video    Video views  \\\n",
       "0       1  20 Tennis shots if they were not filmed, NOBOD...      3,471,237   \n",
       "1       2  Lil Nas X - Old Town Road (Official Movie) ft....     54,071,677   \n",
       "2       3                 JoJo Siwa - Karma (Official Video)     34,206,747   \n",
       "3       4  Wiz Khalifa - See You Again ft. Charlie Puth [...  6,643,904,918   \n",
       "4       5                       伊賀の天然水強炭酸水「家族で、シュワシェア。」篇　15秒    236,085,971   \n",
       "..    ...                                                ...            ...   \n",
       "995   996  CALIFORNIA - MONDAY JUSTICE FEAT. SNOOP DOGG (...        943,248   \n",
       "996   997  John McEnroe's most famous outburst happened i...      4,853,621   \n",
       "997   998                         Adi Golan's Group - Teaser         56,578   \n",
       "998   999                   Keg tapping goes horribly wrong.        751,804   \n",
       "999  1000  LIVE Hurricane Irma - Downtown Orlando - Ameri...        554,438   \n",
       "\n",
       "          Likes Dislikes         Category  published  \n",
       "0        19,023      859              NaN       2017  \n",
       "1     3,497,955   78,799            Music       2019  \n",
       "2       293,563      NaN            Music       2024  \n",
       "3    44,861,602      NaN            Music       2015  \n",
       "4            38      NaN              NaN       2021  \n",
       "..          ...      ...              ...        ...  \n",
       "995       2,949       22            Music       2017  \n",
       "996       7,254      426           Sports       2010  \n",
       "997         NaN      NaN            Music       2014  \n",
       "998       3,427      313    Entertainment       2017  \n",
       "999         184        8  News & Politics       2016  \n",
       "\n",
       "[1000 rows x 7 columns]"
      ]
     },
     "execution_count": 3,
     "metadata": {},
     "output_type": "execute_result"
    }
   ],
   "source": [
    "df = pd.read_csv(\"data.csv\")\n",
    "df"
   ]
  },
  {
   "cell_type": "markdown",
   "id": "fadac121",
   "metadata": {},
   "source": [
    "# Data Exploring"
   ]
  },
  {
   "cell_type": "code",
   "execution_count": 4,
   "id": "a5d70991",
   "metadata": {},
   "outputs": [
    {
     "name": "stdout",
     "output_type": "stream",
     "text": [
      "Number of Rows: 1000\n",
      "Number of Columns: 7\n"
     ]
    }
   ],
   "source": [
    "print(f\"Number of Rows: {df.shape[0]}\\nNumber of Columns: {df.shape[1]}\")"
   ]
  },
  {
   "cell_type": "code",
   "execution_count": 5,
   "id": "1b1801b6",
   "metadata": {},
   "outputs": [
    {
     "data": {
      "text/html": [
       "<div>\n",
       "<style scoped>\n",
       "    .dataframe tbody tr th:only-of-type {\n",
       "        vertical-align: middle;\n",
       "    }\n",
       "\n",
       "    .dataframe tbody tr th {\n",
       "        vertical-align: top;\n",
       "    }\n",
       "\n",
       "    .dataframe thead th {\n",
       "        text-align: right;\n",
       "    }\n",
       "</style>\n",
       "<table border=\"1\" class=\"dataframe\">\n",
       "  <thead>\n",
       "    <tr style=\"text-align: right;\">\n",
       "      <th></th>\n",
       "      <th>rank</th>\n",
       "      <th>Video</th>\n",
       "      <th>Video views</th>\n",
       "      <th>Likes</th>\n",
       "      <th>Dislikes</th>\n",
       "      <th>Category</th>\n",
       "      <th>published</th>\n",
       "    </tr>\n",
       "  </thead>\n",
       "  <tbody>\n",
       "    <tr>\n",
       "      <th>0</th>\n",
       "      <td>1</td>\n",
       "      <td>20 Tennis shots if they were not filmed, NOBOD...</td>\n",
       "      <td>3,471,237</td>\n",
       "      <td>19,023</td>\n",
       "      <td>859</td>\n",
       "      <td>NaN</td>\n",
       "      <td>2017</td>\n",
       "    </tr>\n",
       "    <tr>\n",
       "      <th>1</th>\n",
       "      <td>2</td>\n",
       "      <td>Lil Nas X - Old Town Road (Official Movie) ft....</td>\n",
       "      <td>54,071,677</td>\n",
       "      <td>3,497,955</td>\n",
       "      <td>78,799</td>\n",
       "      <td>Music</td>\n",
       "      <td>2019</td>\n",
       "    </tr>\n",
       "  </tbody>\n",
       "</table>\n",
       "</div>"
      ],
      "text/plain": [
       "   rank                                              Video Video views  \\\n",
       "0     1  20 Tennis shots if they were not filmed, NOBOD...   3,471,237   \n",
       "1     2  Lil Nas X - Old Town Road (Official Movie) ft....  54,071,677   \n",
       "\n",
       "       Likes Dislikes Category  published  \n",
       "0     19,023      859      NaN       2017  \n",
       "1  3,497,955   78,799    Music       2019  "
      ]
     },
     "execution_count": 5,
     "metadata": {},
     "output_type": "execute_result"
    }
   ],
   "source": [
    "df.head(2)"
   ]
  },
  {
   "cell_type": "code",
   "execution_count": 6,
   "id": "28be1e1b",
   "metadata": {},
   "outputs": [
    {
     "data": {
      "text/html": [
       "<div>\n",
       "<style scoped>\n",
       "    .dataframe tbody tr th:only-of-type {\n",
       "        vertical-align: middle;\n",
       "    }\n",
       "\n",
       "    .dataframe tbody tr th {\n",
       "        vertical-align: top;\n",
       "    }\n",
       "\n",
       "    .dataframe thead th {\n",
       "        text-align: right;\n",
       "    }\n",
       "</style>\n",
       "<table border=\"1\" class=\"dataframe\">\n",
       "  <thead>\n",
       "    <tr style=\"text-align: right;\">\n",
       "      <th></th>\n",
       "      <th>rank</th>\n",
       "      <th>Video</th>\n",
       "      <th>Video views</th>\n",
       "      <th>Likes</th>\n",
       "      <th>Dislikes</th>\n",
       "      <th>Category</th>\n",
       "      <th>published</th>\n",
       "    </tr>\n",
       "  </thead>\n",
       "  <tbody>\n",
       "    <tr>\n",
       "      <th>998</th>\n",
       "      <td>999</td>\n",
       "      <td>Keg tapping goes horribly wrong.</td>\n",
       "      <td>751,804</td>\n",
       "      <td>3,427</td>\n",
       "      <td>313</td>\n",
       "      <td>Entertainment</td>\n",
       "      <td>2017</td>\n",
       "    </tr>\n",
       "    <tr>\n",
       "      <th>999</th>\n",
       "      <td>1000</td>\n",
       "      <td>LIVE Hurricane Irma - Downtown Orlando - Ameri...</td>\n",
       "      <td>554,438</td>\n",
       "      <td>184</td>\n",
       "      <td>8</td>\n",
       "      <td>News &amp; Politics</td>\n",
       "      <td>2016</td>\n",
       "    </tr>\n",
       "  </tbody>\n",
       "</table>\n",
       "</div>"
      ],
      "text/plain": [
       "     rank                                              Video Video views  \\\n",
       "998   999                   Keg tapping goes horribly wrong.     751,804   \n",
       "999  1000  LIVE Hurricane Irma - Downtown Orlando - Ameri...     554,438   \n",
       "\n",
       "     Likes Dislikes         Category  published  \n",
       "998  3,427      313    Entertainment       2017  \n",
       "999    184        8  News & Politics       2016  "
      ]
     },
     "execution_count": 6,
     "metadata": {},
     "output_type": "execute_result"
    }
   ],
   "source": [
    "df.tail(2)"
   ]
  },
  {
   "cell_type": "code",
   "execution_count": 7,
   "id": "f52d4eec",
   "metadata": {},
   "outputs": [
    {
     "data": {
      "text/html": [
       "<div>\n",
       "<style scoped>\n",
       "    .dataframe tbody tr th:only-of-type {\n",
       "        vertical-align: middle;\n",
       "    }\n",
       "\n",
       "    .dataframe tbody tr th {\n",
       "        vertical-align: top;\n",
       "    }\n",
       "\n",
       "    .dataframe thead th {\n",
       "        text-align: right;\n",
       "    }\n",
       "</style>\n",
       "<table border=\"1\" class=\"dataframe\">\n",
       "  <thead>\n",
       "    <tr style=\"text-align: right;\">\n",
       "      <th></th>\n",
       "      <th>rank</th>\n",
       "      <th>published</th>\n",
       "    </tr>\n",
       "  </thead>\n",
       "  <tbody>\n",
       "    <tr>\n",
       "      <th>count</th>\n",
       "      <td>1000.000000</td>\n",
       "      <td>1000.000000</td>\n",
       "    </tr>\n",
       "    <tr>\n",
       "      <th>mean</th>\n",
       "      <td>500.500000</td>\n",
       "      <td>2015.933000</td>\n",
       "    </tr>\n",
       "    <tr>\n",
       "      <th>std</th>\n",
       "      <td>288.819436</td>\n",
       "      <td>6.054847</td>\n",
       "    </tr>\n",
       "    <tr>\n",
       "      <th>min</th>\n",
       "      <td>1.000000</td>\n",
       "      <td>2005.000000</td>\n",
       "    </tr>\n",
       "    <tr>\n",
       "      <th>25%</th>\n",
       "      <td>250.750000</td>\n",
       "      <td>2010.000000</td>\n",
       "    </tr>\n",
       "    <tr>\n",
       "      <th>50%</th>\n",
       "      <td>500.500000</td>\n",
       "      <td>2017.000000</td>\n",
       "    </tr>\n",
       "    <tr>\n",
       "      <th>75%</th>\n",
       "      <td>750.250000</td>\n",
       "      <td>2021.000000</td>\n",
       "    </tr>\n",
       "    <tr>\n",
       "      <th>max</th>\n",
       "      <td>1000.000000</td>\n",
       "      <td>2025.000000</td>\n",
       "    </tr>\n",
       "  </tbody>\n",
       "</table>\n",
       "</div>"
      ],
      "text/plain": [
       "              rank    published\n",
       "count  1000.000000  1000.000000\n",
       "mean    500.500000  2015.933000\n",
       "std     288.819436     6.054847\n",
       "min       1.000000  2005.000000\n",
       "25%     250.750000  2010.000000\n",
       "50%     500.500000  2017.000000\n",
       "75%     750.250000  2021.000000\n",
       "max    1000.000000  2025.000000"
      ]
     },
     "execution_count": 7,
     "metadata": {},
     "output_type": "execute_result"
    }
   ],
   "source": [
    "df.describe()"
   ]
  },
  {
   "cell_type": "code",
   "execution_count": 8,
   "id": "8263410e",
   "metadata": {},
   "outputs": [
    {
     "name": "stdout",
     "output_type": "stream",
     "text": [
      "<class 'pandas.core.frame.DataFrame'>\n",
      "RangeIndex: 1000 entries, 0 to 999\n",
      "Data columns (total 7 columns):\n",
      " #   Column       Non-Null Count  Dtype \n",
      "---  ------       --------------  ----- \n",
      " 0   rank         1000 non-null   int64 \n",
      " 1   Video        1000 non-null   object\n",
      " 2   Video views  1000 non-null   object\n",
      " 3   Likes        973 non-null    object\n",
      " 4   Dislikes     687 non-null    object\n",
      " 5   Category     820 non-null    object\n",
      " 6   published    1000 non-null   int64 \n",
      "dtypes: int64(2), object(5)\n",
      "memory usage: 54.8+ KB\n"
     ]
    }
   ],
   "source": [
    "df.info()"
   ]
  },
  {
   "cell_type": "code",
   "execution_count": 9,
   "id": "c688098d",
   "metadata": {},
   "outputs": [
    {
     "data": {
      "text/plain": [
       "Index(['rank', 'Video', 'Video views', 'Likes', 'Dislikes', 'Category',\n",
       "       'published'],\n",
       "      dtype='object')"
      ]
     },
     "execution_count": 9,
     "metadata": {},
     "output_type": "execute_result"
    }
   ],
   "source": [
    "df.columns"
   ]
  },
  {
   "cell_type": "code",
   "execution_count": 10,
   "id": "1ffd6ae4",
   "metadata": {},
   "outputs": [
    {
     "name": "stdout",
     "output_type": "stream",
     "text": [
      "rank\n",
      "Video\n",
      "Video views\n",
      "Likes\n",
      "Dislikes\n",
      "Category\n",
      "published\n"
     ]
    }
   ],
   "source": [
    "for i in df.columns:\n",
    "    print(i)"
   ]
  },
  {
   "cell_type": "code",
   "execution_count": 11,
   "id": "c2a83b03",
   "metadata": {},
   "outputs": [
    {
     "data": {
      "text/plain": [
       "rank           1000\n",
       "Video          1000\n",
       "Video views    1000\n",
       "Likes           973\n",
       "Dislikes        687\n",
       "Category        820\n",
       "published      1000\n",
       "dtype: int64"
      ]
     },
     "execution_count": 11,
     "metadata": {},
     "output_type": "execute_result"
    }
   ],
   "source": [
    "df.count()"
   ]
  },
  {
   "cell_type": "code",
   "execution_count": 12,
   "id": "487b3b28",
   "metadata": {},
   "outputs": [
    {
     "data": {
      "text/plain": [
       "rank           1000\n",
       "Video           994\n",
       "Video views    1000\n",
       "Likes           843\n",
       "Dislikes        489\n",
       "Category         15\n",
       "published        21\n",
       "dtype: int64"
      ]
     },
     "execution_count": 12,
     "metadata": {},
     "output_type": "execute_result"
    }
   ],
   "source": [
    "df.nunique()"
   ]
  },
  {
   "cell_type": "code",
   "execution_count": 13,
   "id": "a78da427",
   "metadata": {},
   "outputs": [
    {
     "data": {
      "text/plain": [
       "array([nan, 'Music', 'Entertainment', 'Sports', 'Comedy',\n",
       "       'People & Blogs', 'Gaming', 'Pets & Animals', 'Autos & Vehicles',\n",
       "       'Education', 'Film & Animation', 'News & Politics',\n",
       "       'Howto & Style', 'Travel & Events', 'Nonprofits & Activism',\n",
       "       'Science & Technology'], dtype=object)"
      ]
     },
     "execution_count": 13,
     "metadata": {},
     "output_type": "execute_result"
    }
   ],
   "source": [
    "df['Category'].unique()"
   ]
  },
  {
   "cell_type": "code",
   "execution_count": 14,
   "id": "3708476f",
   "metadata": {},
   "outputs": [
    {
     "data": {
      "text/plain": [
       "rank             0\n",
       "Video            0\n",
       "Video views      0\n",
       "Likes           27\n",
       "Dislikes       313\n",
       "Category       180\n",
       "published        0\n",
       "dtype: int64"
      ]
     },
     "execution_count": 14,
     "metadata": {},
     "output_type": "execute_result"
    }
   ],
   "source": [
    "df.isnull().sum()"
   ]
  },
  {
   "cell_type": "markdown",
   "id": "ef47fa5e",
   "metadata": {},
   "source": [
    "# Data Pre-Prossing"
   ]
  },
  {
   "cell_type": "code",
   "execution_count": 15,
   "id": "d55855ba",
   "metadata": {},
   "outputs": [
    {
     "name": "stdout",
     "output_type": "stream",
     "text": [
      "<class 'pandas.core.frame.DataFrame'>\n",
      "RangeIndex: 1000 entries, 0 to 999\n",
      "Data columns (total 7 columns):\n",
      " #   Column       Non-Null Count  Dtype \n",
      "---  ------       --------------  ----- \n",
      " 0   rank         1000 non-null   int64 \n",
      " 1   Video        1000 non-null   object\n",
      " 2   Video views  1000 non-null   object\n",
      " 3   Likes        973 non-null    object\n",
      " 4   Dislikes     687 non-null    object\n",
      " 5   Category     820 non-null    object\n",
      " 6   published    1000 non-null   int64 \n",
      "dtypes: int64(2), object(5)\n",
      "memory usage: 54.8+ KB\n"
     ]
    }
   ],
   "source": [
    "df.info()"
   ]
  },
  {
   "cell_type": "code",
   "execution_count": 16,
   "id": "5fed2b2d",
   "metadata": {},
   "outputs": [
    {
     "data": {
      "text/plain": [
       "rank             0\n",
       "Video            0\n",
       "Video views      0\n",
       "Likes           27\n",
       "Dislikes       313\n",
       "Category       180\n",
       "published        0\n",
       "dtype: int64"
      ]
     },
     "execution_count": 16,
     "metadata": {},
     "output_type": "execute_result"
    }
   ],
   "source": [
    "df.isnull().sum()"
   ]
  },
  {
   "cell_type": "markdown",
   "id": "e1275be1",
   "metadata": {},
   "source": [
    "### Dealing with Null Values"
   ]
  },
  {
   "cell_type": "code",
   "execution_count": 19,
   "id": "0b3dac18",
   "metadata": {},
   "outputs": [],
   "source": [
    "def fillNaMean(cols):\n",
    "    for i in cols:\n",
    "        df[i] = df[i].fillna(df[i].mean())\n"
   ]
  },
  {
   "cell_type": "code",
   "execution_count": 20,
   "id": "c3f81861",
   "metadata": {},
   "outputs": [],
   "source": [
    "def fillNaMode(cols):\n",
    "    for i in cols:\n",
    "        df[i] = df[i].fillna(df[i].mode()[0])\n",
    "\n",
    "columns = [ 'Likes', 'Dislikes', 'Category']\n",
    "fillNaMode(columns)"
   ]
  },
  {
   "cell_type": "code",
   "execution_count": 21,
   "id": "6c4785ad",
   "metadata": {},
   "outputs": [
    {
     "data": {
      "text/plain": [
       "rank           0\n",
       "Video          0\n",
       "Video views    0\n",
       "Likes          0\n",
       "Dislikes       0\n",
       "Category       0\n",
       "published      0\n",
       "dtype: int64"
      ]
     },
     "execution_count": 21,
     "metadata": {},
     "output_type": "execute_result"
    }
   ],
   "source": [
    "df.isnull().sum()"
   ]
  },
  {
   "cell_type": "code",
   "execution_count": 22,
   "id": "1238b6a4",
   "metadata": {},
   "outputs": [
    {
     "name": "stdout",
     "output_type": "stream",
     "text": [
      "<class 'pandas.core.frame.DataFrame'>\n",
      "RangeIndex: 1000 entries, 0 to 999\n",
      "Data columns (total 7 columns):\n",
      " #   Column       Non-Null Count  Dtype \n",
      "---  ------       --------------  ----- \n",
      " 0   rank         1000 non-null   int64 \n",
      " 1   Video        1000 non-null   object\n",
      " 2   Video views  1000 non-null   object\n",
      " 3   Likes        1000 non-null   object\n",
      " 4   Dislikes     1000 non-null   object\n",
      " 5   Category     1000 non-null   object\n",
      " 6   published    1000 non-null   int64 \n",
      "dtypes: int64(2), object(5)\n",
      "memory usage: 54.8+ KB\n"
     ]
    }
   ],
   "source": [
    "df.info()"
   ]
  },
  {
   "cell_type": "markdown",
   "id": "21427362",
   "metadata": {},
   "source": [
    "#  Dropping Irrelevant Columns"
   ]
  },
  {
   "cell_type": "code",
   "execution_count": null,
   "id": "fecb9210",
   "metadata": {},
   "outputs": [],
   "source": [
    "df.dropna(subset=['Category'], inplace=True) "
   ]
  },
  {
   "cell_type": "code",
   "execution_count": 24,
   "id": "8b6b8c88",
   "metadata": {},
   "outputs": [
    {
     "name": "stdout",
     "output_type": "stream",
     "text": [
      "<class 'pandas.core.frame.DataFrame'>\n",
      "RangeIndex: 1000 entries, 0 to 999\n",
      "Data columns (total 7 columns):\n",
      " #   Column       Non-Null Count  Dtype \n",
      "---  ------       --------------  ----- \n",
      " 0   rank         1000 non-null   int64 \n",
      " 1   Video        1000 non-null   object\n",
      " 2   Video views  1000 non-null   object\n",
      " 3   Likes        1000 non-null   object\n",
      " 4   Dislikes     1000 non-null   object\n",
      " 5   Category     1000 non-null   object\n",
      " 6   published    1000 non-null   int64 \n",
      "dtypes: int64(2), object(5)\n",
      "memory usage: 54.8+ KB\n"
     ]
    }
   ],
   "source": [
    "df.info()"
   ]
  },
  {
   "cell_type": "code",
   "execution_count": 26,
   "id": "8de0e580",
   "metadata": {},
   "outputs": [],
   "source": [
    "def changeFloattoInt64(cols):\n",
    "    for i in cols:\n",
    "        # Remove commas and convert to integers\n",
    "        df[i] = df[i].str.replace(',', '').astype('int64')\n",
    "\n",
    "columns = ['Likes', 'Dislikes']\n",
    "changeFloattoInt64(columns)"
   ]
  },
  {
   "cell_type": "code",
   "execution_count": 29,
   "id": "b8697958",
   "metadata": {},
   "outputs": [
    {
     "data": {
      "text/plain": [
       "array([2017, 2019, 2024, 2015, 2021, 2023, 2018, 2007, 2020, 2011, 2012,\n",
       "       2022, 2008, 2025, 2006, 2014, 2009, 2010, 2016, 2013, 2005])"
      ]
     },
     "execution_count": 29,
     "metadata": {},
     "output_type": "execute_result"
    }
   ],
   "source": [
    "df['published'].unique()"
   ]
  },
  {
   "cell_type": "code",
   "execution_count": 30,
   "id": "d9b454b1",
   "metadata": {},
   "outputs": [],
   "source": [
    "df_clean = df.copy()"
   ]
  },
  {
   "cell_type": "code",
   "execution_count": 32,
   "id": "b45a38b4",
   "metadata": {},
   "outputs": [],
   "source": [
    "from sklearn.preprocessing import LabelEncoder\n",
    "\n",
    "def encodeCols(cols):\n",
    "    for i in cols:\n",
    "        temp = pd.DataFrame({i:df[i].unique()})\n",
    "        data_LE = LabelEncoder()\n",
    "        data_LE.fit(np.ravel(temp))\n",
    "        # data_LE.fit(temp)             # What is the difference between using \"np.ravel\" or without using \"np.ravel\"\n",
    "        df_clean[i] = data_LE.transform(df[i])\n",
    "\n",
    "columns = ['Category', 'published']\t\n",
    "encodeCols(columns)"
   ]
  },
  {
   "cell_type": "code",
   "execution_count": 33,
   "id": "4eeb01e8",
   "metadata": {},
   "outputs": [
    {
     "data": {
      "text/html": [
       "<div>\n",
       "<style scoped>\n",
       "    .dataframe tbody tr th:only-of-type {\n",
       "        vertical-align: middle;\n",
       "    }\n",
       "\n",
       "    .dataframe tbody tr th {\n",
       "        vertical-align: top;\n",
       "    }\n",
       "\n",
       "    .dataframe thead th {\n",
       "        text-align: right;\n",
       "    }\n",
       "</style>\n",
       "<table border=\"1\" class=\"dataframe\">\n",
       "  <thead>\n",
       "    <tr style=\"text-align: right;\">\n",
       "      <th></th>\n",
       "      <th>rank</th>\n",
       "      <th>Video</th>\n",
       "      <th>Video views</th>\n",
       "      <th>Likes</th>\n",
       "      <th>Dislikes</th>\n",
       "      <th>Category</th>\n",
       "      <th>published</th>\n",
       "    </tr>\n",
       "  </thead>\n",
       "  <tbody>\n",
       "    <tr>\n",
       "      <th>0</th>\n",
       "      <td>1</td>\n",
       "      <td>20 Tennis shots if they were not filmed, NOBOD...</td>\n",
       "      <td>3,471,237</td>\n",
       "      <td>19023</td>\n",
       "      <td>859</td>\n",
       "      <td>7</td>\n",
       "      <td>12</td>\n",
       "    </tr>\n",
       "    <tr>\n",
       "      <th>1</th>\n",
       "      <td>2</td>\n",
       "      <td>Lil Nas X - Old Town Road (Official Movie) ft....</td>\n",
       "      <td>54,071,677</td>\n",
       "      <td>3497955</td>\n",
       "      <td>78799</td>\n",
       "      <td>7</td>\n",
       "      <td>14</td>\n",
       "    </tr>\n",
       "    <tr>\n",
       "      <th>2</th>\n",
       "      <td>3</td>\n",
       "      <td>JoJo Siwa - Karma (Official Video)</td>\n",
       "      <td>34,206,747</td>\n",
       "      <td>293563</td>\n",
       "      <td>0</td>\n",
       "      <td>7</td>\n",
       "      <td>19</td>\n",
       "    </tr>\n",
       "    <tr>\n",
       "      <th>3</th>\n",
       "      <td>4</td>\n",
       "      <td>Wiz Khalifa - See You Again ft. Charlie Puth [...</td>\n",
       "      <td>6,643,904,918</td>\n",
       "      <td>44861602</td>\n",
       "      <td>0</td>\n",
       "      <td>7</td>\n",
       "      <td>10</td>\n",
       "    </tr>\n",
       "    <tr>\n",
       "      <th>4</th>\n",
       "      <td>5</td>\n",
       "      <td>伊賀の天然水強炭酸水「家族で、シュワシェア。」篇　15秒</td>\n",
       "      <td>236,085,971</td>\n",
       "      <td>38</td>\n",
       "      <td>0</td>\n",
       "      <td>7</td>\n",
       "      <td>16</td>\n",
       "    </tr>\n",
       "  </tbody>\n",
       "</table>\n",
       "</div>"
      ],
      "text/plain": [
       "   rank                                              Video    Video views  \\\n",
       "0     1  20 Tennis shots if they were not filmed, NOBOD...      3,471,237   \n",
       "1     2  Lil Nas X - Old Town Road (Official Movie) ft....     54,071,677   \n",
       "2     3                 JoJo Siwa - Karma (Official Video)     34,206,747   \n",
       "3     4  Wiz Khalifa - See You Again ft. Charlie Puth [...  6,643,904,918   \n",
       "4     5                       伊賀の天然水強炭酸水「家族で、シュワシェア。」篇　15秒    236,085,971   \n",
       "\n",
       "      Likes  Dislikes  Category  published  \n",
       "0     19023       859         7         12  \n",
       "1   3497955     78799         7         14  \n",
       "2    293563         0         7         19  \n",
       "3  44861602         0         7         10  \n",
       "4        38         0         7         16  "
      ]
     },
     "execution_count": 33,
     "metadata": {},
     "output_type": "execute_result"
    }
   ],
   "source": [
    "df_clean.head()"
   ]
  },
  {
   "cell_type": "code",
   "execution_count": 34,
   "id": "122821d3",
   "metadata": {},
   "outputs": [
    {
     "name": "stdout",
     "output_type": "stream",
     "text": [
      "<class 'pandas.core.frame.DataFrame'>\n",
      "RangeIndex: 1000 entries, 0 to 999\n",
      "Data columns (total 7 columns):\n",
      " #   Column       Non-Null Count  Dtype \n",
      "---  ------       --------------  ----- \n",
      " 0   rank         1000 non-null   int64 \n",
      " 1   Video        1000 non-null   object\n",
      " 2   Video views  1000 non-null   object\n",
      " 3   Likes        1000 non-null   int64 \n",
      " 4   Dislikes     1000 non-null   int64 \n",
      " 5   Category     1000 non-null   int64 \n",
      " 6   published    1000 non-null   int64 \n",
      "dtypes: int64(5), object(2)\n",
      "memory usage: 54.8+ KB\n"
     ]
    }
   ],
   "source": [
    "df_clean.info()"
   ]
  },
  {
   "cell_type": "code",
   "execution_count": 35,
   "id": "9f0a1e7f",
   "metadata": {},
   "outputs": [],
   "source": [
    "df_clean.to_csv(r'cleaned-data.csv', index=False, header=True)"
   ]
  },
  {
   "cell_type": "code",
   "execution_count": 36,
   "id": "53f7519a",
   "metadata": {},
   "outputs": [
    {
     "name": "stderr",
     "output_type": "stream",
     "text": [
      "C:\\Users\\YC\\AppData\\Local\\Temp\\ipykernel_14020\\3498320995.py:7: FutureWarning: Downcasting behavior in `replace` is deprecated and will be removed in a future version. To retain the old behavior, explicitly call `result.infer_objects(copy=False)`. To opt-in to the future behavior, set `pd.set_option('future.no_silent_downcasting', True)`\n",
      "  df2.replace(\"?\", np.nan, inplace=True)\n"
     ]
    }
   ],
   "source": [
    "import numpy as np\n",
    "df2 = pd.DataFrame({\n",
    "    'A': [1,2,3,'?'],\n",
    "    'B': [2,3,'?',4]\n",
    "})\n",
    "\n",
    "df2.replace(\"?\", np.nan, inplace=True)"
   ]
  },
  {
   "cell_type": "code",
   "execution_count": 37,
   "id": "9a2361e5",
   "metadata": {},
   "outputs": [
    {
     "name": "stdout",
     "output_type": "stream",
     "text": [
      "     A    B\n",
      "0  1.0  2.0\n",
      "1  2.0  3.0\n",
      "2  3.0  NaN\n",
      "3  NaN  4.0\n"
     ]
    }
   ],
   "source": [
    "print(df2)"
   ]
  },
  {
   "cell_type": "code",
   "execution_count": null,
   "id": "162b9031",
   "metadata": {},
   "outputs": [],
   "source": []
  }
 ],
 "metadata": {
  "kernelspec": {
   "display_name": "Python 3",
   "language": "python",
   "name": "python3"
  },
  "language_info": {
   "codemirror_mode": {
    "name": "ipython",
    "version": 3
   },
   "file_extension": ".py",
   "mimetype": "text/x-python",
   "name": "python",
   "nbconvert_exporter": "python",
   "pygments_lexer": "ipython3",
   "version": "3.13.1"
  }
 },
 "nbformat": 4,
 "nbformat_minor": 5
}
