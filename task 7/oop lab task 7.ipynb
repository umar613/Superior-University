{
 "cells": [
  {
   "cell_type": "markdown",
   "id": "65ac72bb",
   "metadata": {},
   "source": [
    "# task 1"
   ]
  },
  {
   "cell_type": "code",
   "execution_count": null,
   "id": "975f9e0f",
   "metadata": {},
   "outputs": [],
   "source": [
    "class Vehicle:\n",
    "    def __init__(self, make, model):\n",
    "        self.make = make\n",
    "        self.model = model\n",
    "\n",
    "    def display_info(self):\n",
    "        print(f\"Make: {self.make}, Model: {self.model}\")\n",
    "\n",
    "\n",
    "class Car(Vehicle):\n",
    "    def __init__(self, make, model, num_doors):\n",
    "        super().__init__(make, model)\n",
    "        self.num_doors = num_doors\n",
    "\n",
    "    def additional_info(self):\n",
    "        print(f\"Number of Doors: {self.num_doors}\")\n",
    "\n",
    "\n"
   ]
  },
  {
   "cell_type": "code",
   "execution_count": 9,
   "id": "2f25008d",
   "metadata": {},
   "outputs": [
    {
     "name": "stdout",
     "output_type": "stream",
     "text": [
      "Car Information:\n",
      "Make: Toyota, Model: supramk4\n",
      "Number of Doors: 4\n",
      "Luxury Car Information:\n",
      "Make: rolls royls, Model: S-Class\n",
      "Luxury Features: Leather Seats, Sunroof, Advanced Navigation\n"
     ]
    }
   ],
   "source": [
    "class Vehicle:\n",
    "    def __init__(self, make, model):\n",
    "        self.make = make\n",
    "        self.model = model \n",
    "    def display_info(self):\n",
    "        print(f\"Make: {self.make}, Model: {self.model}\")\n",
    "        \n",
    "class Car(Vehicle):\n",
    "    def __init__(self, make, model, num_doors):\n",
    "        super().__init__(make, model)\n",
    "        self.num_doors = num_doors  \n",
    "    def additional_info(self):\n",
    "         print(f\"Number of Doors: {self.num_doors}\")\n",
    "        \n",
    "class LuxuryCar(Car):\n",
    "    def __init__(self, make, model, num_doors, features):\n",
    "        super().__init__(make, model, num_doors)\n",
    "        self.features = features\n",
    "    def additional_info(self):\n",
    "        print(f\"Luxury Features: {', '.join(self.features)}\")\n",
    "\n",
    "if __name__ == \"__main__\":\n",
    "    # Create a regular car\n",
    "    car = Car(\"Toyota\", \"supramk4\", 4)\n",
    "    print(\"Car Information:\")\n",
    "    car.display_info()\n",
    "    car.additional_info()\n",
    "\n",
    "    luxury_car = LuxuryCar(\"rolls royls\", \"S-Class\", 4, [\"Leather Seats\", \"Sunroof\", \"Advanced Navigation\"])\n",
    "    print(\"Luxury Car Information:\")\n",
    "    luxury_car.display_info()\n",
    "    luxury_car.additional_info()\n",
    "        "
   ]
  },
  {
   "cell_type": "markdown",
   "id": "b13739cf",
   "metadata": {},
   "source": [
    "# task 2"
   ]
  },
  {
   "cell_type": "code",
   "execution_count": 8,
   "id": "1fc16d54",
   "metadata": {},
   "outputs": [
    {
     "name": "stdout",
     "output_type": "stream",
     "text": [
      "Manager Information:\n",
      "Name: Alice Smith, Position: Project Manager\n",
      "Department: Development\n",
      "Worker Information:\n",
      "Name: sohail jhon, Position: Software Engineer\n",
      "Hours Worked: 37\n"
     ]
    }
   ],
   "source": [
    "class Employee:\n",
    "    def __init__(self,name,position):\n",
    "        self.name = name\n",
    "        self.position = position\n",
    "    def display_info(self):\n",
    "        print(f\"Name: {self.name}, Position: {self.position}\")\n",
    "        \n",
    "class Manager(Employee):\n",
    "    def __init__(self, name,position,department):\n",
    "        super().__init__(name, position)\n",
    "        self.department = department\n",
    "    def additional_info(self):\n",
    "        print(f\"Department: {self.department}\")\n",
    "\n",
    "\n",
    "class Worker(Employee):\n",
    "    def __init__(self, name,position,hours_worked):\n",
    "        super().__init__(name, position)\n",
    "        self.hours_worked = hours_worked\n",
    "    def additional_info(self):\n",
    "        print(f\"Hours Worked: {self.hours_worked}\")\n",
    "\n",
    "if __name__ == \"__main__\":\n",
    "    manager = Manager(\"Alice Smith\", \"Project Manager\", \"Development\")\n",
    "    print(\"Manager Information:\")\n",
    "    manager.display_info()\n",
    "    manager.additional_info()\n",
    "\n",
    "    worker = Worker(\"sohail jhon\", \"Software Engineer\", 37)\n",
    "    print(\"Worker Information:\")\n",
    "    worker.display_info()\n",
    "    worker.additional_info()"
   ]
  },
  {
   "cell_type": "code",
   "execution_count": null,
   "id": "22093830",
   "metadata": {},
   "outputs": [],
   "source": []
  }
 ],
 "metadata": {
  "kernelspec": {
   "display_name": "Python 3 (ipykernel)",
   "language": "python",
   "name": "python3"
  },
  "language_info": {
   "codemirror_mode": {
    "name": "ipython",
    "version": 3
   },
   "file_extension": ".py",
   "mimetype": "text/x-python",
   "name": "python",
   "nbconvert_exporter": "python",
   "pygments_lexer": "ipython3",
   "version": "3.10.9"
  }
 },
 "nbformat": 4,
 "nbformat_minor": 5
}
